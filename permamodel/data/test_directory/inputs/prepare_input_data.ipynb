{
 "cells": [
  {
   "cell_type": "code",
   "execution_count": 8,
   "id": "3d929a91-a7f3-480c-8550-342393ec69bb",
   "metadata": {
    "tags": []
   },
   "outputs": [],
   "source": [
    "import numpy as np\n",
    "import os\n",
    "from netCDF4 import Dataset"
   ]
  },
  {
   "cell_type": "code",
   "execution_count": 9,
   "id": "8928bb8b-2790-4abd-a659-63384a96b2df",
   "metadata": {
    "tags": []
   },
   "outputs": [],
   "source": [
    "files = [i for i in os.listdir('./txt_files/') if i.split('.')[1] == 'txt']"
   ]
  },
  {
   "cell_type": "code",
   "execution_count": 10,
   "id": "98f126b6-752f-4966-84b3-92131bcec8aa",
   "metadata": {
    "tags": []
   },
   "outputs": [
    {
     "data": {
      "text/plain": [
       "['thawed_vegetation_diffusivity.txt',\n",
       " 'frozen_vegetation_height.txt',\n",
       " 'snow_density.txt',\n",
       " 'temperature_amplitude.txt',\n",
       " 'soil_water_content.txt',\n",
       " 'thawed_vegetation_height.txt',\n",
       " 'frozen_vegetation_diffusivity.txt',\n",
       " 'snow_thickness.txt',\n",
       " 'air_temperature.txt']"
      ]
     },
     "execution_count": 10,
     "metadata": {},
     "output_type": "execute_result"
    }
   ],
   "source": [
    "files"
   ]
  },
  {
   "cell_type": "code",
   "execution_count": 11,
   "id": "1154b683-2192-44ea-9dfd-7bc100bf3d2b",
   "metadata": {
    "tags": []
   },
   "outputs": [],
   "source": [
    "size = 100\n",
    "nyears = 100"
   ]
  },
  {
   "cell_type": "code",
   "execution_count": 12,
   "id": "4dfe739e-8472-49ce-b1f3-b0d8c596d52c",
   "metadata": {
    "tags": []
   },
   "outputs": [],
   "source": [
    "for file in files:\n",
    "    name, ext = file.split('.')\n",
    "    \n",
    "    data = np.loadtxt('./txt_files/' + file)\n",
    "    \n",
    "    if name == 'frozen_vegetation_height':\n",
    "        data[:] += 0.1\n",
    "    if name == 'frozen_vegetation_diffusivity':\n",
    "        data[:] += 1.39e-6\n",
    "    if name == 'thawed_vegetation_height':\n",
    "        data[:] += 0.1\n",
    "    if name == 'thawed_vegetation_diffusivity':\n",
    "        data[:] += 5.56e-8\n",
    "        \n",
    "    nc = Dataset(name + '.nc', 'w', format = 'NETCDF4')\n",
    "    \n",
    "    time = nc.createDimension('time', nyears)\n",
    "    # time = nc.createVariable('time', 'i4', ('time',)) \n",
    "\n",
    "    var = nc.createVariable(name, 'f4', ('time',))    \n",
    "    var[:] = data[:size]"
   ]
  },
  {
   "cell_type": "code",
   "execution_count": 13,
   "id": "2b40b057-1c16-42ef-8e00-4d2c85e7975d",
   "metadata": {
    "tags": []
   },
   "outputs": [],
   "source": [
    "for file in files:\n",
    "    name, ext = file.split('.')\n",
    "    nc = Dataset(name + '.nc', 'r', format = 'NETCDF4')\n",
    "    nc.close()"
   ]
  },
  {
   "cell_type": "code",
   "execution_count": 14,
   "id": "750955be-3cac-4d90-8f7c-53d42ffe3cde",
   "metadata": {},
   "outputs": [
    {
     "data": {
      "text/plain": [
       "masked_array(data=[0.4465537 , 0.4404557 , 0.3777996 , 0.4312125 ,\n",
       "                   0.55331737, 0.375244  , 0.3818362 , 0.4115151 ,\n",
       "                   0.36827132, 0.4120722 , 0.49853203, 0.48471162,\n",
       "                   0.3443193 , 0.32181063, 0.30415642, 0.48529828,\n",
       "                   0.3493774 , 0.31702408, 0.37426355, 0.44789127,\n",
       "                   0.40631583, 0.3511621 , 0.39996314, 0.47342777,\n",
       "                   0.51330954, 0.2797548 , 0.312797  , 0.47987834,\n",
       "                   0.3320073 , 0.5063667 , 0.5430759 , 0.46974167,\n",
       "                   0.47373915, 0.33669925, 0.509112  , 0.39201042,\n",
       "                   0.34849468, 0.33946133, 0.46062136, 0.44438222,\n",
       "                   0.33150354, 0.35252073, 0.4186113 , 0.41211298,\n",
       "                   0.43289098, 0.30149332, 0.46208182, 0.61718225,\n",
       "                   0.49020004, 0.35794783, 0.39928845, 0.46596396,\n",
       "                   0.36284098, 0.41055414, 0.30219665, 0.35240743,\n",
       "                   0.32823664, 0.44970283, 0.3996042 , 0.37141356,\n",
       "                   0.36919284, 0.4044926 , 0.34129086, 0.41615626,\n",
       "                   0.48034763, 0.4615139 , 0.3690264 , 0.5242471 ,\n",
       "                   0.3909403 , 0.33958277, 0.35520807, 0.44984996,\n",
       "                   0.3516508 , 0.38079512, 0.33521834, 0.3869897 ,\n",
       "                   0.38445053, 0.4930925 , 0.39647135, 0.4567099 ,\n",
       "                   0.35417858, 0.41020814, 0.42046747, 0.40264976,\n",
       "                   0.26217398, 0.34994343, 0.46337536, 0.37736836,\n",
       "                   0.4411324 , 0.5029212 , 0.44776562, 0.28841925,\n",
       "                   0.35734984, 0.36803675, 0.30813363, 0.40047732,\n",
       "                   0.34786752, 0.3677486 , 0.38150606, 0.37599218],\n",
       "             mask=False,\n",
       "       fill_value=1e+20,\n",
       "            dtype=float32)"
      ]
     },
     "execution_count": 14,
     "metadata": {},
     "output_type": "execute_result"
    }
   ],
   "source": [
    "test = Dataset('snow_thickness.nc')\n",
    "test['snow_thickness'][:]"
   ]
  }
 ],
 "metadata": {
  "kernelspec": {
   "display_name": "Python 3 (ipykernel)",
   "language": "python",
   "name": "python3"
  },
  "language_info": {
   "codemirror_mode": {
    "name": "ipython",
    "version": 3
   },
   "file_extension": ".py",
   "mimetype": "text/x-python",
   "name": "python",
   "nbconvert_exporter": "python",
   "pygments_lexer": "ipython3",
   "version": "3.11.0"
  }
 },
 "nbformat": 4,
 "nbformat_minor": 5
}
